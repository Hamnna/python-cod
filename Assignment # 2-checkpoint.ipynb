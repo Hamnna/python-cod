{
 "cells": [
  {
   "cell_type": "code",
   "execution_count": 1,
   "metadata": {},
   "outputs": [
    {
     "name": "stdout",
     "output_type": "stream",
     "text": [
      "Your Match Score:90\n",
      "Your Islamiyat Score:98\n",
      "Your English Score:89\n",
      "Your S.S.T Scpre:88\n",
      "Your Urdu Score:90\n",
      "Your Grade Is:A+\n"
     ]
    }
   ],
   "source": [
    "# Marksheet\n",
    "\n",
    "a= eval(input(\"Your Match Score:\"))\n",
    "b= eval(input(\"Your Islamiyat Score:\"))\n",
    "c= eval(input(\"Your English Score:\"))\n",
    "d= eval(input(\"Your S.S.T Scpre:\"))\n",
    "e= eval(input(\"Your Urdu Score:\"))\n",
    "X= ((a+b+c+d+e)/500)*100\n",
    "if X>=80:\n",
    "    print(\"Your Grade Is:A+\")\n",
    "elif X>=70 and X<80:\n",
    "    print(\"Your Grade Is:A\")\n",
    "elif X>=60 and X<70:\n",
    "    print(\"Your Grade Is:B\")\n",
    "else:\n",
    "    print(\"your Grade Is:F\")"
   ]
  },
  {
   "cell_type": "code",
   "execution_count": 3,
   "metadata": {},
   "outputs": [
    {
     "name": "stdout",
     "output_type": "stream",
     "text": [
      "Enter Your NO:8\n",
      "Your No.Is Even\n"
     ]
    }
   ],
   "source": [
    "# Even Or Odd no.\n",
    "a= eval(input(\"Enter Your NO:\"))\n",
    "a1= int(a/2)*2\n",
    "if a1==a:\n",
    "    print(\"Your No.Is Even\")\n",
    "else:\n",
    "    print(\"YourNo. Is Odd\")"
   ]
  },
  {
   "cell_type": "code",
   "execution_count": 4,
   "metadata": {},
   "outputs": [
    {
     "data": {
      "text/plain": [
       "9"
      ]
     },
     "execution_count": 4,
     "metadata": {},
     "output_type": "execute_result"
    }
   ],
   "source": [
    "#No of items in a List\n",
    "A=[2,3,45,6,6,7,88,99,0]\n",
    "len(A)"
   ]
  },
  {
   "cell_type": "code",
   "execution_count": 5,
   "metadata": {},
   "outputs": [
    {
     "data": {
      "text/plain": [
       "54"
      ]
     },
     "execution_count": 5,
     "metadata": {},
     "output_type": "execute_result"
    }
   ],
   "source": [
    "#Element adding in a List\n",
    "B=[2,3,4,5,6,7,8,9,10]\n",
    "x=0\n",
    "for a in B:\n",
    "    x+=a\n",
    "x"
   ]
  },
  {
   "cell_type": "code",
   "execution_count": 9,
   "metadata": {},
   "outputs": [
    {
     "data": {
      "text/plain": [
       "9"
      ]
     },
     "execution_count": 9,
     "metadata": {},
     "output_type": "execute_result"
    }
   ],
   "source": [
    "#Largest of the No. in the list\n",
    "X=[2,4,6,8,9]\n",
    "x=0\n",
    "for s in X:\n",
    "    if s>5:\n",
    "        x=s\n",
    "x"
   ]
  },
  {
   "cell_type": "code",
   "execution_count": 11,
   "metadata": {},
   "outputs": [
    {
     "data": {
      "text/plain": [
       "[1, 2, 3, 4, 4, 3, 2, 4]"
      ]
     },
     "execution_count": 11,
     "metadata": {},
     "output_type": "execute_result"
    }
   ],
   "source": [
    "#Element less than 5 shall be in the list\n",
    "a=[1,2,3,4,5,6,7,8,9,7,6,5,4,3,2,4,5,6,77,8]\n",
    "b=[]\n",
    "for i in a:\n",
    "    if i<5:\n",
    "        b.append(i)\n",
    "b"
   ]
  },
  {
   "cell_type": "code",
   "execution_count": null,
   "metadata": {},
   "outputs": [],
   "source": []
  }
 ],
 "metadata": {
  "kernelspec": {
   "display_name": "Python 3",
   "language": "python",
   "name": "python3"
  },
  "language_info": {
   "codemirror_mode": {
    "name": "ipython",
    "version": 3
   },
   "file_extension": ".py",
   "mimetype": "text/x-python",
   "name": "python",
   "nbconvert_exporter": "python",
   "pygments_lexer": "ipython3",
   "version": "3.7.1"
  }
 },
 "nbformat": 4,
 "nbformat_minor": 2
}
