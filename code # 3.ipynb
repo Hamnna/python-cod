{
 "cells": [
  {
   "cell_type": "code",
   "execution_count": 13,
   "metadata": {},
   "outputs": [
    {
     "name": "stdout",
     "output_type": "stream",
     "text": [
      "First No:9\n",
      "Second No:3\n",
      "Opperator=/\n",
      "Answer is 3\n"
     ]
    }
   ],
   "source": [
    "a= int(input(\"First No:\"))\n",
    "b= int(input(\"Second No:\"))\n",
    "c= (input(\"Opperator=\"))\n",
    "if c==\"+\":\n",
    "    X=a+b\n",
    "    print(\"Answer is:\",X)\n",
    "elif c==\"-\":\n",
    "    X=a-b\n",
    "    print(\"Answer is:\",X)\n",
    "elif c==\"*\":\n",
    "    X=a*b\n",
    "    print(\"Answer is:\",X)\n",
    "elif c==\"/\":\n",
    "    X=a//b\n",
    "    print(\"Answer is:\",X)\n",
    "elif c==\"^\":\n",
    "    X=a**b\n",
    "    print(\"Answer is:\",X)\n",
    "else:\n",
    "    print(\"Write correct opperator\")"
   ]
  },
  {
   "cell_type": "code",
   "execution_count": 42,
   "metadata": {},
   "outputs": [
    {
     "name": "stdout",
     "output_type": "stream",
     "text": [
      "int exist\n"
     ]
    }
   ],
   "source": [
    "Y=[\"b\",\"bn\",3,\"x\"]\n",
    "\n",
    "for i in Y:\n",
    "    if i==3:\n",
    "        print(\"int exist\")"
   ]
  },
  {
   "cell_type": "code",
   "execution_count": 30,
   "metadata": {},
   "outputs": [
    {
     "name": "stdout",
     "output_type": "stream",
     "text": [
      "{'a': 1, 'b': 2}\n",
      "{'a': 100, 'b': 2, 'c': 3, 'd': 4}\n"
     ]
    }
   ],
   "source": [
    "d = {'a': 1, 'b': 2}\n",
    "print(d)\n",
    "d['a'] = 100  \n",
    "d['c'] = 3  \n",
    "d['d'] = 4\n",
    "print(d) "
   ]
  },
  {
   "cell_type": "code",
   "execution_count": 33,
   "metadata": {},
   "outputs": [
    {
     "name": "stdout",
     "output_type": "stream",
     "text": [
      "{'a': 12, 'b': 13, 'c': 14, 'd': 39}\n"
     ]
    }
   ],
   "source": [
    "dict ={'a' :12 ,'b' :13 ,'c':14}\n",
    "dict['d'] = sum(dict.values())\n",
    "print(dict)"
   ]
  },
  {
   "cell_type": "code",
   "execution_count": 37,
   "metadata": {},
   "outputs": [
    {
     "name": "stdout",
     "output_type": "stream",
     "text": [
      "[2, 4]\n"
     ]
    }
   ],
   "source": [
    "seen = [1,2,4,5,7,6,4,5]\n",
    "uniq = [2,4]\n",
    "for x in seen:\n",
    "    if x not in seen:\n",
    "        uniq.append(x)\n",
    "        seen.add(x)\n",
    "print(uniq)"
   ]
  },
  {
   "cell_type": "code",
   "execution_count": null,
   "metadata": {},
   "outputs": [],
   "source": []
  }
 ],
 "metadata": {
  "kernelspec": {
   "display_name": "Python 3",
   "language": "python",
   "name": "python3"
  },
  "language_info": {
   "codemirror_mode": {
    "name": "ipython",
    "version": 3
   },
   "file_extension": ".py",
   "mimetype": "text/x-python",
   "name": "python",
   "nbconvert_exporter": "python",
   "pygments_lexer": "ipython3",
   "version": "3.7.1"
  }
 },
 "nbformat": 4,
 "nbformat_minor": 2
}
